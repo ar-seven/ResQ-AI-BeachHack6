{
 "cells": [
  {
   "cell_type": "code",
   "execution_count": 1,
   "metadata": {},
   "outputs": [],
   "source": [
    "import openai\n",
    "import os\n",
    "from dotenv import load_dotenv\n",
    "load_dotenv()\n",
    "api_key = os.getenv(\"OPENAI_API_KEY\")\n",
    "client = openai.OpenAI(api_key=api_key)"
   ]
  },
  {
   "cell_type": "code",
   "execution_count": 2,
   "metadata": {},
   "outputs": [],
   "source": [
    "def call_ambulance():\n",
    "    print(\"🚑 Dispatching ambulance!\")\n",
    "\n",
    "def call_police():\n",
    "    print(\"🚔 Dispatching police!\")\n",
    "\n",
    "def call_fire_department():\n",
    "    print(\"🔥 Dispatching fire department!\")\n"
   ]
  },
  {
   "cell_type": "code",
   "execution_count": 3,
   "metadata": {},
   "outputs": [],
   "source": [
    "tools = [\n",
    "    {\n",
    "        \"type\": \"function\",\n",
    "        \"function\": {\n",
    "            \"name\": \"call_ambulance\",\n",
    "            \"description\": \"Call an ambulance in case of a medical emergency.\",\n",
    "            \"parameters\": {},\n",
    "        }\n",
    "    },\n",
    "    {\n",
    "        \"type\": \"function\",\n",
    "        \"function\": {\n",
    "            \"name\": \"call_police\",\n",
    "            \"description\": \"Call the police in case of a crime or security issue.\",\n",
    "            \"parameters\": {},\n",
    "        }\n",
    "    },\n",
    "    {\n",
    "        \"type\": \"function\",\n",
    "        \"function\": {\n",
    "            \"name\": \"call_fire_department\",\n",
    "            \"description\": \"Call the fire department in case of a fire emergency.\",\n",
    "            \"parameters\": {},\n",
    "        }\n",
    "    }\n",
    "]"
   ]
  },
  {
   "cell_type": "code",
   "execution_count": 4,
   "metadata": {},
   "outputs": [],
   "source": [
    "messages=[\n",
    "    {\n",
    "    \"role\": \"system\",\n",
    "    \"content\": [\n",
    "        {\n",
    "        \"text\": \"Create an AI-powered emergency response assistant for handling 911 calls that utilizes tools for dispatching services and informing users, while engaging with users like a chatbot by asking relevant questions. The ultimate aim is to ensure that critical emergencies are prioritized, caller distress levels are accurately analyzed, and appropriate actions are recommended. Human operators must remain in control, reviewing every decision made by the AI to maintain efficiency and ensure life-saving decisions are primarily guided by human expertise.\\n\\n- **Tool Usage:** Use tools to dispatch emergency services as required and to provide users with pertinent information.\\n- **Engagement:** Engage with the user in a conversational manner by asking questions to assess the situation and decide on the next steps as necessary.\\n- **Decision Support:** Prioritize emergencies and analyze distress levels to recommend actions such as dispatching police, medical teams, or firefighters.\\n- **Human Oversight:** Ensure all AI decisions and recommendations are reviewed and controlled by trained human professionals.\\n\\n# Steps\\n\\n1. **Initiate Interaction:** Begin by assessing the situation with introductory questions and gather necessary details from the caller.\\n2. **Assess Emergency Priority:** Analyze the information provided by the user to determine the urgency and type of emergency.\\n3. **Analyze Distress Levels:** Determine the distress level of the caller to prioritize response.\\n4. **Recommend Actions:** Use AI tools to recommend actions or dispatch services based on priority and distress analysis.\\n5. **Engage Human Oversight:** Ensure all decisions are cross-verified or managed by human operators to maintain safety and reliability.\\n\\n# Output Format\\n\\nRespond in a structured conversational format, ensuring clarity and relevance to the user's input. Use concise and straightforward language suitable for emergency situations.\\n\\n# Examples\\n\\n**Example 1:**\\n\\n- **Input:** User reports a fire in a building.\\n- **AI Response:** \\n  - Initiate: \\\"I understand there is a fire. Can you please tell me the exact location of the incident?\\\"\\n  - Assess: \\\"Thank you. How many people are there with you, and is anyone in immediate danger?\\\"\\n  - Recommend: (Upon determining the severity and location) \\\"I am dispatching the fire department to your location now. Please remain calm and ensure the area is evacuated.\\\"\\n\\n**Example 2:**\\n\\n- **Input:** User reports a potential burglary.\\n- **AI Response:**\\n  - Initiate: \\\"Can you tell me where this is happening?\\\"\\n  - Assess: \\\"Are you or anyone else currently in danger?\\\"\\n  - Recommend: (If confirmed as a priority situation) \\\"We are dispatching the police to assist you. Stay on the line and find a safe place.\\\"\\n\\n# Notes\\n\\n- Address any constraints that might affect the emergency services' deployment.\\n- Tailor responses to ensure empathy and attentiveness to the user’s emotional state.\\n- Highlight the importance of human oversight in validating all AI recommendations.\",\n",
    "        \"type\": \"text\"\n",
    "        }\n",
    "    ]\n",
    "    }\n",
    "]"
   ]
  },
  {
   "cell_type": "code",
   "execution_count": 9,
   "metadata": {},
   "outputs": [],
   "source": [
    "# Function to process user messages\n",
    "def process_emergency(user_message):\n",
    "    messages.append({\"role\": \"user\", \"content\": user_message})\n",
    "    response = client.chat.completions.create(\n",
    "        model=\"gpt-4o-mini\",\n",
    "        messages=messages,\n",
    "        tools=tools, \n",
    "        tool_choice=\"auto\",\n",
    "        temperature=1,\n",
    "        max_completion_tokens=200,\n",
    "        top_p=1,\n",
    "        frequency_penalty=0,\n",
    "        presence_penalty=0\n",
    "    )\n",
    "\n",
    "    ai_message = response.choices[0].message\n",
    "\n",
    "    if hasattr(ai_message, \"tool_calls\") and ai_message.tool_calls:\n",
    "        function_name = ai_message.tool_calls[0].function.name\n",
    "        if function_name == \"call_ambulance\":\n",
    "            call_ambulance()\n",
    "        elif function_name == \"call_police\":\n",
    "            call_police()\n",
    "        elif function_name == \"call_fire_department\":\n",
    "            call_fire_department()\n",
    "\n",
    "\n",
    "    messages.append({\"role\": \"tool\", \"content\": f\"{ai_message.content} (Function: {function_name})\"})\n",
    "    print(\"AI Response:\", ai_message.content)\n",
    "\n"
   ]
  },
  {
   "cell_type": "code",
   "execution_count": 6,
   "metadata": {},
   "outputs": [
    {
     "name": "stdout",
     "output_type": "stream",
     "text": [
      "AI Response: I can help with that. First, I need to ask you a few questions to assess the situation:\n",
      "\n",
      "1. **Can you please tell me your exact location?**\n",
      "2. **What is the nature of the medical emergency?**\n",
      "3. **Are you currently in any immediate danger or need urgent assistance?**\n",
      "\n",
      "Please provide this information so I can dispatch the ambulance for you.\n"
     ]
    }
   ],
   "source": [
    "process_emergency(\"call me an ambulance\")  "
   ]
  },
  {
   "cell_type": "code",
   "execution_count": 7,
   "metadata": {},
   "outputs": [
    {
     "name": "stdout",
     "output_type": "stream",
     "text": [
      "AI Response: I'm so sorry to hear that you're in this situation. It’s very important that we get help to you immediately.\n",
      "\n",
      "1. **Can you confirm your exact location within Lulu Mall, Ernakulam? For example, near an entrance or specific store?**\n",
      "2. **Are you alone, or is anyone else with you who is injured?**\n",
      "3. **Can you tell me if you are able to apply pressure to your wound to help stop the bleeding?**\n",
      "\n",
      "Please provide this information, and I will get help dispatched right away.\n"
     ]
    }
   ],
   "source": [
    "process_emergency(\"am at lulu mall ernakulam, i have been shot\")  "
   ]
  },
  {
   "cell_type": "code",
   "execution_count": 8,
   "metadata": {},
   "outputs": [
    {
     "name": "stdout",
     "output_type": "stream",
     "text": [
      "ChatCompletionMessage(content=None, refusal=None, role='assistant', audio=None, function_call=None, tool_calls=[ChatCompletionMessageToolCall(id='call_PmG6RYSpVrSz2xur8n5mTivo', function=Function(arguments='{}', name='call_ambulance'), type='function'), ChatCompletionMessageToolCall(id='call_RtvuYZjDvE0eNSfbj2de5Uv6', function=Function(arguments='{}', name='call_police'), type='function')])\n",
      "🚑 Dispatching ambulance!\n",
      "AI Response: None\n"
     ]
    }
   ],
   "source": [
    "process_emergency(\"at lulu mall entrance, am alone, yes amapplying pressure, send help\")"
   ]
  },
  {
   "cell_type": "code",
   "execution_count": 64,
   "metadata": {},
   "outputs": [
    {
     "name": "stdout",
     "output_type": "stream",
     "text": [
      "AI Response: - **Assess:** \"Thank you for clarifying. Is the girl nearby, and can you speak with her? Are there any signs that she might need immediate medical attention or is she in distress?\"\n",
      "  \n",
      "- **Engage:** \"If she's not in immediate danger, is she open to talking to someone about what happened? It’s important to ensure she feels safe and supported.\" \n",
      "\n",
      "(Once you provide more details, I can guide you on the next steps.)\n"
     ]
    }
   ],
   "source": [
    "process_emergency(\"no its not a serious case, but i think she might need psychological help\")"
   ]
  },
  {
   "cell_type": "code",
   "execution_count": 37,
   "metadata": {},
   "outputs": [
    {
     "name": "stdout",
     "output_type": "stream",
     "text": [
      "🚔 Dispatching police!\n",
      "AI Response: None\n"
     ]
    }
   ],
   "source": [
    "process_emergency(\"did u dispatch the police?\")"
   ]
  },
  {
   "cell_type": "code",
   "execution_count": 65,
   "metadata": {},
   "outputs": [
    {
     "data": {
      "text/plain": [
       "[{'role': 'system',\n",
       "  'content': [{'text': 'Create an AI-powered emergency response assistant for handling 911 calls that utilizes tools for dispatching services and informing users, while engaging with users like a chatbot by asking relevant questions. The ultimate aim is to ensure that critical emergencies are prioritized, caller distress levels are accurately analyzed, and appropriate actions are recommended. Human operators must remain in control, reviewing every decision made by the AI to maintain efficiency and ensure life-saving decisions are primarily guided by human expertise.\\n\\n- **Tool Usage:** Use tools to dispatch emergency services as required and to provide users with pertinent information.\\n- **Engagement:** Engage with the user in a conversational manner by asking questions to assess the situation and decide on the next steps as necessary.\\n- **Decision Support:** Prioritize emergencies and analyze distress levels to recommend actions such as dispatching police, medical teams, or firefighters.\\n- **Human Oversight:** Ensure all AI decisions and recommendations are reviewed and controlled by trained human professionals.\\n\\n# Steps\\n\\n1. **Initiate Interaction:** Begin by assessing the situation with introductory questions and gather necessary details from the caller.\\n2. **Assess Emergency Priority:** Analyze the information provided by the user to determine the urgency and type of emergency.\\n3. **Analyze Distress Levels:** Determine the distress level of the caller to prioritize response.\\n4. **Recommend Actions:** Use AI tools to recommend actions or dispatch services based on priority and distress analysis.\\n5. **Engage Human Oversight:** Ensure all decisions are cross-verified or managed by human operators to maintain safety and reliability.\\n\\n# Output Format\\n\\nRespond in a structured conversational format, ensuring clarity and relevance to the user\\'s input. Use concise and straightforward language suitable for emergency situations.\\n\\n# Examples\\n\\n**Example 1:**\\n\\n- **Input:** User reports a fire in a building.\\n- **AI Response:** \\n  - Initiate: \"I understand there is a fire. Can you please tell me the exact location of the incident?\"\\n  - Assess: \"Thank you. How many people are there with you, and is anyone in immediate danger?\"\\n  - Recommend: (Upon determining the severity and location) \"I am dispatching the fire department to your location now. Please remain calm and ensure the area is evacuated.\"\\n\\n**Example 2:**\\n\\n- **Input:** User reports a potential burglary.\\n- **AI Response:**\\n  - Initiate: \"Can you tell me where this is happening?\"\\n  - Assess: \"Are you or anyone else currently in danger?\"\\n  - Recommend: (If confirmed as a priority situation) \"We are dispatching the police to assist you. Stay on the line and find a safe place.\"\\n\\n# Notes\\n\\n- Address any constraints that might affect the emergency services\\' deployment.\\n- Tailor responses to ensure empathy and attentiveness to the user’s emotional state.\\n- Highlight the importance of human oversight in validating all AI recommendations.',\n",
       "    'type': 'text'}]},\n",
       " {'role': 'user', 'content': 'I saw a girl with burnmarks in her hand'},\n",
       " {'role': 'system',\n",
       "  'content': '- **Initiate:** \"I understand you’ve seen a girl with burn marks on her hand. Can you please tell me where you are located right now?\"\\n- **Assess:** \"Is the girl in immediate danger, or is she being attended to by someone? Is she responsive?\"\\n  \\n(Once the user provides more information about the situation, continue with the next steps.)'},\n",
       " {'role': 'user',\n",
       "  'content': 'no its not a serious case, but i think she might need psychological help'},\n",
       " {'role': 'system',\n",
       "  'content': '- **Assess:** \"Thank you for clarifying. Is the girl nearby, and can you speak with her? Are there any signs that she might need immediate medical attention or is she in distress?\"\\n  \\n- **Engage:** \"If she\\'s not in immediate danger, is she open to talking to someone about what happened? It’s important to ensure she feels safe and supported.\" \\n\\n(Once you provide more details, I can guide you on the next steps.)'}]"
      ]
     },
     "execution_count": 65,
     "metadata": {},
     "output_type": "execute_result"
    }
   ],
   "source": [
    "messages"
   ]
  },
  {
   "cell_type": "code",
   "execution_count": null,
   "metadata": {},
   "outputs": [],
   "source": []
  }
 ],
 "metadata": {
  "kernelspec": {
   "display_name": "swasth",
   "language": "python",
   "name": "python3"
  },
  "language_info": {
   "codemirror_mode": {
    "name": "ipython",
    "version": 3
   },
   "file_extension": ".py",
   "mimetype": "text/x-python",
   "name": "python",
   "nbconvert_exporter": "python",
   "pygments_lexer": "ipython3",
   "version": "3.9.21"
  }
 },
 "nbformat": 4,
 "nbformat_minor": 2
}
